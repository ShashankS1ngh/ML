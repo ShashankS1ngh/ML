{
  "nbformat": 4,
  "nbformat_minor": 0,
  "metadata": {
    "colab": {
      "name": "Regression.ipynb",
      "provenance": [],
      "include_colab_link": true
    },
    "kernelspec": {
      "name": "python3",
      "display_name": "Python 3"
    }
  },
  "cells": [
    {
      "cell_type": "markdown",
      "metadata": {
        "id": "view-in-github",
        "colab_type": "text"
      },
      "source": [
        "<a href=\"https://colab.research.google.com/github/ShashankS1ngh/ML/blob/main/Regression.ipynb\" target=\"_parent\"><img src=\"https://colab.research.google.com/assets/colab-badge.svg\" alt=\"Open In Colab\"/></a>"
      ]
    },
    {
      "cell_type": "code",
      "metadata": {
        "id": "7FFgo2EaXcXd"
      },
      "source": [
        "import os\r\n",
        "import tarfile\r\n",
        "from six.moves import urllib"
      ],
      "execution_count": 47,
      "outputs": []
    },
    {
      "cell_type": "code",
      "metadata": {
        "id": "tBXzbMxPXkQq"
      },
      "source": [
        "DOWNLOAD_ROOT=\"https://raw.githubusercontent.com/ageron/handson-ml/master/\"\r\n",
        "HOUSING_PATH=os.path.join(\"datasets\", \"housing\")\r\n",
        "HOUSING_URL = DOWNLOAD_ROOT + \"datasets/housing/housing.tgz\""
      ],
      "execution_count": 48,
      "outputs": []
    },
    {
      "cell_type": "code",
      "metadata": {
        "id": "5XP-o0qGXonm"
      },
      "source": [
        "import pandas as pd\r\n",
        "def load_housing_data(housing_path=\"https://raw.githubusercontent.com/ageron/handson-ml/master/datasets/housing/\"):\r\n",
        "  csv_path=os.path.join(housing_path,\"housing.csv\")\r\n",
        "  return pd.read_csv(csv_path)"
      ],
      "execution_count": 49,
      "outputs": []
    },
    {
      "cell_type": "code",
      "metadata": {
        "colab": {
          "base_uri": "https://localhost:8080/",
          "height": 215
        },
        "id": "BdbUPip4Xvw4",
        "outputId": "c6b2b3de-4d34-4255-e5ea-02926143a1c4"
      },
      "source": [
        "housing=load_housing_data()\r\n",
        "housing.head()"
      ],
      "execution_count": 50,
      "outputs": [
        {
          "output_type": "execute_result",
          "data": {
            "text/html": [
              "<div>\n",
              "<style scoped>\n",
              "    .dataframe tbody tr th:only-of-type {\n",
              "        vertical-align: middle;\n",
              "    }\n",
              "\n",
              "    .dataframe tbody tr th {\n",
              "        vertical-align: top;\n",
              "    }\n",
              "\n",
              "    .dataframe thead th {\n",
              "        text-align: right;\n",
              "    }\n",
              "</style>\n",
              "<table border=\"1\" class=\"dataframe\">\n",
              "  <thead>\n",
              "    <tr style=\"text-align: right;\">\n",
              "      <th></th>\n",
              "      <th>longitude</th>\n",
              "      <th>latitude</th>\n",
              "      <th>housing_median_age</th>\n",
              "      <th>total_rooms</th>\n",
              "      <th>total_bedrooms</th>\n",
              "      <th>population</th>\n",
              "      <th>households</th>\n",
              "      <th>median_income</th>\n",
              "      <th>median_house_value</th>\n",
              "      <th>ocean_proximity</th>\n",
              "    </tr>\n",
              "  </thead>\n",
              "  <tbody>\n",
              "    <tr>\n",
              "      <th>0</th>\n",
              "      <td>-122.23</td>\n",
              "      <td>37.88</td>\n",
              "      <td>41.0</td>\n",
              "      <td>880.0</td>\n",
              "      <td>129.0</td>\n",
              "      <td>322.0</td>\n",
              "      <td>126.0</td>\n",
              "      <td>8.3252</td>\n",
              "      <td>452600.0</td>\n",
              "      <td>NEAR BAY</td>\n",
              "    </tr>\n",
              "    <tr>\n",
              "      <th>1</th>\n",
              "      <td>-122.22</td>\n",
              "      <td>37.86</td>\n",
              "      <td>21.0</td>\n",
              "      <td>7099.0</td>\n",
              "      <td>1106.0</td>\n",
              "      <td>2401.0</td>\n",
              "      <td>1138.0</td>\n",
              "      <td>8.3014</td>\n",
              "      <td>358500.0</td>\n",
              "      <td>NEAR BAY</td>\n",
              "    </tr>\n",
              "    <tr>\n",
              "      <th>2</th>\n",
              "      <td>-122.24</td>\n",
              "      <td>37.85</td>\n",
              "      <td>52.0</td>\n",
              "      <td>1467.0</td>\n",
              "      <td>190.0</td>\n",
              "      <td>496.0</td>\n",
              "      <td>177.0</td>\n",
              "      <td>7.2574</td>\n",
              "      <td>352100.0</td>\n",
              "      <td>NEAR BAY</td>\n",
              "    </tr>\n",
              "    <tr>\n",
              "      <th>3</th>\n",
              "      <td>-122.25</td>\n",
              "      <td>37.85</td>\n",
              "      <td>52.0</td>\n",
              "      <td>1274.0</td>\n",
              "      <td>235.0</td>\n",
              "      <td>558.0</td>\n",
              "      <td>219.0</td>\n",
              "      <td>5.6431</td>\n",
              "      <td>341300.0</td>\n",
              "      <td>NEAR BAY</td>\n",
              "    </tr>\n",
              "    <tr>\n",
              "      <th>4</th>\n",
              "      <td>-122.25</td>\n",
              "      <td>37.85</td>\n",
              "      <td>52.0</td>\n",
              "      <td>1627.0</td>\n",
              "      <td>280.0</td>\n",
              "      <td>565.0</td>\n",
              "      <td>259.0</td>\n",
              "      <td>3.8462</td>\n",
              "      <td>342200.0</td>\n",
              "      <td>NEAR BAY</td>\n",
              "    </tr>\n",
              "  </tbody>\n",
              "</table>\n",
              "</div>"
            ],
            "text/plain": [
              "   longitude  latitude  ...  median_house_value  ocean_proximity\n",
              "0    -122.23     37.88  ...            452600.0         NEAR BAY\n",
              "1    -122.22     37.86  ...            358500.0         NEAR BAY\n",
              "2    -122.24     37.85  ...            352100.0         NEAR BAY\n",
              "3    -122.25     37.85  ...            341300.0         NEAR BAY\n",
              "4    -122.25     37.85  ...            342200.0         NEAR BAY\n",
              "\n",
              "[5 rows x 10 columns]"
            ]
          },
          "metadata": {
            "tags": []
          },
          "execution_count": 50
        }
      ]
    },
    {
      "cell_type": "code",
      "metadata": {
        "id": "TL1pBJs4X1w2"
      },
      "source": [
        "import matplotlib.pyplot as plt"
      ],
      "execution_count": 51,
      "outputs": []
    },
    {
      "cell_type": "code",
      "metadata": {
        "id": "K6LLP_WbYUTV"
      },
      "source": [
        "import numpy as np\r\n",
        "def split_train_test(data, test_ratio):\r\n",
        "  shuffled_indices = np.random.permutation(len(data))\r\n",
        "  test_set_size = int(len(data) * test_ratio)\r\n",
        "  test_indices = shuffled_indices[:test_set_size]\r\n",
        "  train_indices = shuffled_indices[test_set_size:]\r\n",
        "  return data.iloc[train_indices], data.iloc[test_indices]"
      ],
      "execution_count": 52,
      "outputs": []
    },
    {
      "cell_type": "code",
      "metadata": {
        "colab": {
          "base_uri": "https://localhost:8080/"
        },
        "id": "wW8HWMufYcmH",
        "outputId": "982b96bf-5a3c-4fb4-ea77-7b635a83837b"
      },
      "source": [
        "train_set, test_set = split_train_test(housing, 0.2)\r\n",
        "print(len(train_set), \"train +\", len(test_set), \"test\")"
      ],
      "execution_count": 53,
      "outputs": [
        {
          "output_type": "stream",
          "text": [
            "16512 train + 4128 test\n"
          ],
          "name": "stdout"
        }
      ]
    },
    {
      "cell_type": "code",
      "metadata": {
        "colab": {
          "base_uri": "https://localhost:8080/",
          "height": 487
        },
        "id": "5y7SuOR8Yvk7",
        "outputId": "117b0596-666c-4d38-d4d9-05e8fa1bdbd9"
      },
      "source": [
        "housing[\"income_cat\"]=np.ceil(housing[\"median_income\"]/1.5)\r\n",
        "housing[\"income_cat\"].where(housing[\"income_cat\"]<5,5.0,inplace=True)\r\n",
        "housing[\"income_cat\"].hist(bins=20,figsize=(20,15))\r\n",
        "plt.show()"
      ],
      "execution_count": 54,
      "outputs": [
        {
          "output_type": "display_data",
          "data": {
            "image/png": "[encoded data removed]",
            "text/plain": [
              "<Figure size 1440x1080 with 1 Axes>"
            ]
          },
          "metadata": {
            "tags": [],
            "needs_background": "light"
          }
        }
      ]
    },
    {
      "cell_type": "code",
      "metadata": {
        "id": "Z00WnHFZYFPz"
      },
      "source": [
        "from sklearn.model_selection import StratifiedShuffleSplit\r\n",
        "split = StratifiedShuffleSplit(n_splits=1, test_size=0.2, random_state=42)\r\n",
        "for train_index, test_index in split.split(housing, housing[\"income_cat\"]):\r\n",
        "  strat_train_set = housing.loc[train_index]\r\n",
        "  strat_test_set = housing.loc[test_index]   "
      ],
      "execution_count": 55,
      "outputs": []
    },
    {
      "cell_type": "code",
      "metadata": {
        "id": "ONoZXN9rZQvy"
      },
      "source": [
        "for set_ in (strat_train_set, strat_test_set):\r\n",
        "  set_.drop(\"income_cat\", axis=1, inplace=True)"
      ],
      "execution_count": 56,
      "outputs": []
    },
    {
      "cell_type": "code",
      "metadata": {
        "id": "8ZpRtQTzZScm"
      },
      "source": [
        "housing=strat_train_set.copy()"
      ],
      "execution_count": 57,
      "outputs": []
    },
    {
      "cell_type": "code",
      "metadata": {
        "id": "3IQTeRBVZXZ0"
      },
      "source": [
        "housing[\"rooms_per_household\"] = housing[\"total_rooms\"]/housing[\"households\"]\r\n",
        "housing[\"bedrooms_per_room\"] = housing[\"total_bedrooms\"]/housing[\"total_rooms\"]\r\n",
        "housing[\"population_per_household\"]=housing[\"population\"]/housing[\"households\"]"
      ],
      "execution_count": 58,
      "outputs": []
    },
    {
      "cell_type": "code",
      "metadata": {
        "id": "8vq5n4jOZgEK"
      },
      "source": [
        "housing = strat_train_set.drop(\"median_house_value\", axis=1)\r\n",
        "housing_labels = strat_train_set[\"median_house_value\"].copy()"
      ],
      "execution_count": 59,
      "outputs": []
    },
    {
      "cell_type": "code",
      "metadata": {
        "colab": {
          "base_uri": "https://localhost:8080/"
        },
        "id": "G2Uxy2oiaPqU",
        "outputId": "b2a8d645-2e57-480f-8519-fe2a0210977c"
      },
      "source": [
        "housing_labels"
      ],
      "execution_count": 60,
      "outputs": [
        {
          "output_type": "execute_result",
          "data": {
            "text/plain": [
              "17606    286600.0\n",
              "18632    340600.0\n",
              "14650    196900.0\n",
              "3230      46300.0\n",
              "3555     254500.0\n",
              "           ...   \n",
              "6563     240200.0\n",
              "12053    113000.0\n",
              "13908     97800.0\n",
              "11159    225900.0\n",
              "15775    500001.0\n",
              "Name: median_house_value, Length: 16512, dtype: float64"
            ]
          },
          "metadata": {
            "tags": []
          },
          "execution_count": 60
        }
      ]
    },
    {
      "cell_type": "markdown",
      "metadata": {
        "id": "2FyQV2RtdSKB"
      },
      "source": [
        "**housing.dropna(subset=[\"total_bedrooms\"]) \r\n",
        "# option 1\r\n",
        "housing.drop(\"total_bedrooms\", axis=1) \r\n",
        "# option 2\r\n",
        "median = housing[\"total_bedrooms\"].median()\r\n",
        " # option 3\r\n",
        "housing[\"total_bedrooms\"].fillna(median, inplace=True)**"
      ]
    },
    {
      "cell_type": "code",
      "metadata": {
        "colab": {
          "base_uri": "https://localhost:8080/"
        },
        "id": "UmPfG8hfdOFA",
        "outputId": "df0e93c5-8547-4ecb-d741-0af991dcf79b"
      },
      "source": [
        "from sklearn.impute import SimpleImputer\r\n",
        "imputer=SimpleImputer(strategy=\"median\")\r\n",
        "housing_num=housing.drop(\"ocean_proximity\",axis=1)\r\n",
        "imputer.fit(housing_num)\r\n",
        "imputer.statistics_"
      ],
      "execution_count": 61,
      "outputs": [
        {
          "output_type": "execute_result",
          "data": {
            "text/plain": [
              "array([-118.51  ,   34.26  ,   29.    , 2119.5   ,  433.    , 1164.    ,\n",
              "        408.    ,    3.5409])"
            ]
          },
          "metadata": {
            "tags": []
          },
          "execution_count": 61
        }
      ]
    },
    {
      "cell_type": "code",
      "metadata": {
        "colab": {
          "base_uri": "https://localhost:8080/"
        },
        "id": "4mJibq9WjpzK",
        "outputId": "0611919a-7eb8-462e-d60f-c6210b51d290"
      },
      "source": [
        "housing_num.median().values"
      ],
      "execution_count": 62,
      "outputs": [
        {
          "output_type": "execute_result",
          "data": {
            "text/plain": [
              "array([-118.51  ,   34.26  ,   29.    , 2119.5   ,  433.    , 1164.    ,\n",
              "        408.    ,    3.5409])"
            ]
          },
          "metadata": {
            "tags": []
          },
          "execution_count": 62
        }
      ]
    },
    {
      "cell_type": "code",
      "metadata": {
        "colab": {
          "base_uri": "https://localhost:8080/",
          "height": 215
        },
        "id": "U3KGdGNrjxVC",
        "outputId": "e61775a3-3536-40e3-86b9-86fb53e3a0d2"
      },
      "source": [
        "x=imputer.transform(housing_num)\r\n",
        "housing_tr=pd.DataFrame(x,columns=housing_num.columns)\r\n",
        "housing_tr.head()"
      ],
      "execution_count": 63,
      "outputs": [
        {
          "output_type": "execute_result",
          "data": {
            "text/html": [
              "<div>\n",
              "<style scoped>\n",
              "    .dataframe tbody tr th:only-of-type {\n",
              "        vertical-align: middle;\n",
              "    }\n",
              "\n",
              "    .dataframe tbody tr th {\n",
              "        vertical-align: top;\n",
              "    }\n",
              "\n",
              "    .dataframe thead th {\n",
              "        text-align: right;\n",
              "    }\n",
              "</style>\n",
              "<table border=\"1\" class=\"dataframe\">\n",
              "  <thead>\n",
              "    <tr style=\"text-align: right;\">\n",
              "      <th></th>\n",
              "      <th>longitude</th>\n",
              "      <th>latitude</th>\n",
              "      <th>housing_median_age</th>\n",
              "      <th>total_rooms</th>\n",
              "      <th>total_bedrooms</th>\n",
              "      <th>population</th>\n",
              "      <th>households</th>\n",
              "      <th>median_income</th>\n",
              "    </tr>\n",
              "  </thead>\n",
              "  <tbody>\n",
              "    <tr>\n",
              "      <th>0</th>\n",
              "      <td>-121.89</td>\n",
              "      <td>37.29</td>\n",
              "      <td>38.0</td>\n",
              "      <td>1568.0</td>\n",
              "      <td>351.0</td>\n",
              "      <td>710.0</td>\n",
              "      <td>339.0</td>\n",
              "      <td>2.7042</td>\n",
              "    </tr>\n",
              "    <tr>\n",
              "      <th>1</th>\n",
              "      <td>-121.93</td>\n",
              "      <td>37.05</td>\n",
              "      <td>14.0</td>\n",
              "      <td>679.0</td>\n",
              "      <td>108.0</td>\n",
              "      <td>306.0</td>\n",
              "      <td>113.0</td>\n",
              "      <td>6.4214</td>\n",
              "    </tr>\n",
              "    <tr>\n",
              "      <th>2</th>\n",
              "      <td>-117.20</td>\n",
              "      <td>32.77</td>\n",
              "      <td>31.0</td>\n",
              "      <td>1952.0</td>\n",
              "      <td>471.0</td>\n",
              "      <td>936.0</td>\n",
              "      <td>462.0</td>\n",
              "      <td>2.8621</td>\n",
              "    </tr>\n",
              "    <tr>\n",
              "      <th>3</th>\n",
              "      <td>-119.61</td>\n",
              "      <td>36.31</td>\n",
              "      <td>25.0</td>\n",
              "      <td>1847.0</td>\n",
              "      <td>371.0</td>\n",
              "      <td>1460.0</td>\n",
              "      <td>353.0</td>\n",
              "      <td>1.8839</td>\n",
              "    </tr>\n",
              "    <tr>\n",
              "      <th>4</th>\n",
              "      <td>-118.59</td>\n",
              "      <td>34.23</td>\n",
              "      <td>17.0</td>\n",
              "      <td>6592.0</td>\n",
              "      <td>1525.0</td>\n",
              "      <td>4459.0</td>\n",
              "      <td>1463.0</td>\n",
              "      <td>3.0347</td>\n",
              "    </tr>\n",
              "  </tbody>\n",
              "</table>\n",
              "</div>"
            ],
            "text/plain": [
              "   longitude  latitude  ...  households  median_income\n",
              "0    -121.89     37.29  ...       339.0         2.7042\n",
              "1    -121.93     37.05  ...       113.0         6.4214\n",
              "2    -117.20     32.77  ...       462.0         2.8621\n",
              "3    -119.61     36.31  ...       353.0         1.8839\n",
              "4    -118.59     34.23  ...      1463.0         3.0347\n",
              "\n",
              "[5 rows x 8 columns]"
            ]
          },
          "metadata": {
            "tags": []
          },
          "execution_count": 63
        }
      ]
    },
    {
      "cell_type": "code",
      "metadata": {
        "colab": {
          "base_uri": "https://localhost:8080/"
        },
        "id": "NQ1o-cJFk0tg",
        "outputId": "c1b4f1b8-6ca0-48be-c61d-dd7b670bb512"
      },
      "source": [
        "from sklearn.preprocessing import LabelEncoder\r\n",
        "encoder=LabelEncoder()\r\n",
        "housing_cat=housing[\"ocean_proximity\"]\r\n",
        "housing_cat_encoded=encoder.fit_transform(housing_cat)\r\n",
        "housing_cat_encoded"
      ],
      "execution_count": 64,
      "outputs": [
        {
          "output_type": "execute_result",
          "data": {
            "text/plain": [
              "array([0, 0, 4, ..., 1, 0, 3])"
            ]
          },
          "metadata": {
            "tags": []
          },
          "execution_count": 64
        }
      ]
    },
    {
      "cell_type": "code",
      "metadata": {
        "colab": {
          "base_uri": "https://localhost:8080/"
        },
        "id": "Uuas2Nf0_sxR",
        "outputId": "fa3f7bd1-f941-4b12-ea72-2c5bfff18648"
      },
      "source": [
        "print(encoder.classes_)"
      ],
      "execution_count": 65,
      "outputs": [
        {
          "output_type": "stream",
          "text": [
            "['<1H OCEAN' 'INLAND' 'ISLAND' 'NEAR BAY' 'NEAR OCEAN']\n"
          ],
          "name": "stdout"
        }
      ]
    },
    {
      "cell_type": "code",
      "metadata": {
        "colab": {
          "base_uri": "https://localhost:8080/"
        },
        "id": "M7xrXgR0AB-7",
        "outputId": "552f3d17-73e7-4ff4-bec2-4bc4f2110aef"
      },
      "source": [
        "from sklearn.preprocessing import OneHotEncoder\r\n",
        "encoder = OneHotEncoder()\r\n",
        "housing_cat_1hot = encoder.fit_transform(housing_cat_encoded.reshape(-1,1))\r\n",
        "housing_cat_1hot.toarray()"
      ],
      "execution_count": 66,
      "outputs": [
        {
          "output_type": "execute_result",
          "data": {
            "text/plain": [
              "array([[1., 0., 0., 0., 0.],\n",
              "       [1., 0., 0., 0., 0.],\n",
              "       [0., 0., 0., 0., 1.],\n",
              "       ...,\n",
              "       [0., 1., 0., 0., 0.],\n",
              "       [1., 0., 0., 0., 0.],\n",
              "       [0., 0., 0., 1., 0.]])"
            ]
          },
          "metadata": {
            "tags": []
          },
          "execution_count": 66
        }
      ]
    },
    {
      "cell_type": "markdown",
      "metadata": {
        "id": "GbNEsV-tLXgU"
      },
      "source": [
        "Above 2 steps could be done in a sigle function"
      ]
    },
    {
      "cell_type": "code",
      "metadata": {
        "colab": {
          "base_uri": "https://localhost:8080/"
        },
        "id": "2jVnYnN9H49j",
        "outputId": "87dda7b9-5784-4370-8ff7-73d35e98b52d"
      },
      "source": [
        "from sklearn.preprocessing import LabelBinarizer\r\n",
        "encoder = LabelBinarizer(sparse_output=True)\r\n",
        "housing_cat_1hot = encoder.fit_transform(housing_cat)\r\n",
        "housing_cat_1hot"
      ],
      "execution_count": 67,
      "outputs": [
        {
          "output_type": "execute_result",
          "data": {
            "text/plain": [
              "<16512x5 sparse matrix of type '<class 'numpy.int64'>'\n",
              "\twith 16512 stored elements in Compressed Sparse Row format>"
            ]
          },
          "metadata": {
            "tags": []
          },
          "execution_count": 67
        }
      ]
    },
    {
      "cell_type": "code",
      "metadata": {
        "id": "Bjv1tOUuCD6L"
      },
      "source": [
        "from sklearn.base import BaseEstimator, TransformerMixin\r\n",
        "rooms_ix, bedrooms_ix, population_ix, household_ix = 3, 4, 5, 6\r\n",
        "class CombinedAttributesAdder(BaseEstimator, TransformerMixin):\r\n",
        "   def __init__(self, add_bedrooms_per_room = True): # no *args or **kargs\r\n",
        "      self.add_bedrooms_per_room = add_bedrooms_per_room\r\n",
        "   def fit(self, X, y=None):\r\n",
        "      return self # nothing else to do\r\n",
        "   def transform(self, X, y=None):\r\n",
        "      rooms_per_household = X[:, rooms_ix] / X[:, household_ix]\r\n",
        "      population_per_household = X[:, population_ix] / X[:, household_ix]\r\n",
        "      if self.add_bedrooms_per_room:\r\n",
        "         bedrooms_per_room = X[:, bedrooms_ix] / X[:, rooms_ix]\r\n",
        "         return np.c_[X, rooms_per_household, population_per_household,\r\n",
        "                     bedrooms_per_room]\r\n",
        "      else:\r\n",
        "         return np.c_[X, rooms_per_household, population_per_household]\r\n",
        "attr_adder = CombinedAttributesAdder(add_bedrooms_per_room=False)\r\n",
        "housing_extra_attribs = attr_adder.transform(housing.values)"
      ],
      "execution_count": 68,
      "outputs": []
    },
    {
      "cell_type": "code",
      "metadata": {
        "id": "v0jCiQgsKIY7"
      },
      "source": [
        "from sklearn.pipeline import Pipeline\r\n",
        "from sklearn.preprocessing import StandardScaler\r\n",
        "num_pipeline = Pipeline([\r\n",
        "('imputer', SimpleImputer(strategy=\"median\")),\r\n",
        "('attribs_adder', CombinedAttributesAdder()),\r\n",
        "('std_scaler', StandardScaler()),\r\n",
        "])\r\n",
        "housing_num_tr = num_pipeline.fit_transform(housing_num)"
      ],
      "execution_count": 69,
      "outputs": []
    },
    {
      "cell_type": "code",
      "metadata": {
        "colab": {
          "base_uri": "https://localhost:8080/"
        },
        "id": "iVicl3Ls1Ve4",
        "outputId": "0551a4bc-df76-4478-83fb-31de5f6244ff"
      },
      "source": [
        "housing_num_tr"
      ],
      "execution_count": 70,
      "outputs": [
        {
          "output_type": "execute_result",
          "data": {
            "text/plain": [
              "array([[-1.15604281,  0.77194962,  0.74333089, ..., -0.31205452,\n",
              "        -0.08649871,  0.15531753],\n",
              "       [-1.17602483,  0.6596948 , -1.1653172 , ...,  0.21768338,\n",
              "        -0.03353391, -0.83628902],\n",
              "       [ 1.18684903, -1.34218285,  0.18664186, ..., -0.46531516,\n",
              "        -0.09240499,  0.4222004 ],\n",
              "       ...,\n",
              "       [ 1.58648943, -0.72478134, -1.56295222, ...,  0.3469342 ,\n",
              "        -0.03055414, -0.52177644],\n",
              "       [ 0.78221312, -0.85106801,  0.18664186, ...,  0.02499488,\n",
              "         0.06150916, -0.30340741],\n",
              "       [-1.43579109,  0.99645926,  1.85670895, ..., -0.22852947,\n",
              "        -0.09586294,  0.10180567]])"
            ]
          },
          "metadata": {
            "tags": []
          },
          "execution_count": 70
        }
      ]
    },
    {
      "cell_type": "markdown",
      "metadata": {
        "id": "VozNslPGDXFx"
      },
      "source": [
        "There's no particular method to transform pipeline fit to pandas dataframe so we have to write custom transformer to this task"
      ]
    },
    {
      "cell_type": "code",
      "metadata": {
        "id": "42dvQ5EN1lEa"
      },
      "source": [
        "from sklearn.base import BaseEstimator, TransformerMixin\r\n",
        "class DataFrameSelector(BaseEstimator, TransformerMixin):\r\n",
        "   def __init__(self, attribute_names):\r\n",
        "      self.attribute_names = attribute_names\r\n",
        "   def fit(self, X, y=None):\r\n",
        "      return self\r\n",
        "   def transform(self, X):\r\n",
        "      return X[self.attribute_names].values"
      ],
      "execution_count": 71,
      "outputs": []
    },
    {
      "cell_type": "code",
      "metadata": {
        "id": "hcycyRu5DRGa"
      },
      "source": [
        "num_attribs = list(housing_num)\r\n",
        "cat_attribs = [\"ocean_proximity\"]\r\n",
        "num_pipeline = Pipeline([\r\n",
        "('selector', DataFrameSelector(num_attribs)),\r\n",
        "('imputer', SimpleImputer(strategy=\"median\")),\r\n",
        "('attribs_adder', CombinedAttributesAdder()),\r\n",
        "('std_scaler', StandardScaler()),\r\n",
        "])\r\n",
        "cat_pipeline = Pipeline([\r\n",
        "('selector', DataFrameSelector(cat_attribs)),\r\n",
        "('one_hot_encoder', OneHotEncoder(sparse=False))\r\n",
        "#('label_binarizer', LabelBinarizer()),\r\n",
        "])"
      ],
      "execution_count": 72,
      "outputs": []
    },
    {
      "cell_type": "code",
      "metadata": {
        "id": "mmRUOnOob-Xq"
      },
      "source": [
        "from sklearn.pipeline import FeatureUnion\r\n",
        "full_pipeline = FeatureUnion(transformer_list=[\r\n",
        "(\"num_pipeline\", num_pipeline),\r\n",
        "(\"cat_pipeline\", cat_pipeline),\r\n",
        "])"
      ],
      "execution_count": 73,
      "outputs": []
    },
    {
      "cell_type": "code",
      "metadata": {
        "colab": {
          "base_uri": "https://localhost:8080/"
        },
        "id": "7eBuFm4Nl25A",
        "outputId": "eea134a6-4389-4a4e-8903-395cf2b7a0eb"
      },
      "source": [
        "housing_prepared = full_pipeline.fit_transform(housing)\r\n",
        "housing_prepared"
      ],
      "execution_count": 74,
      "outputs": [
        {
          "output_type": "execute_result",
          "data": {
            "text/plain": [
              "array([[-1.15604281,  0.77194962,  0.74333089, ...,  0.        ,\n",
              "         0.        ,  0.        ],\n",
              "       [-1.17602483,  0.6596948 , -1.1653172 , ...,  0.        ,\n",
              "         0.        ,  0.        ],\n",
              "       [ 1.18684903, -1.34218285,  0.18664186, ...,  0.        ,\n",
              "         0.        ,  1.        ],\n",
              "       ...,\n",
              "       [ 1.58648943, -0.72478134, -1.56295222, ...,  0.        ,\n",
              "         0.        ,  0.        ],\n",
              "       [ 0.78221312, -0.85106801,  0.18664186, ...,  0.        ,\n",
              "         0.        ,  0.        ],\n",
              "       [-1.43579109,  0.99645926,  1.85670895, ...,  0.        ,\n",
              "         1.        ,  0.        ]])"
            ]
          },
          "metadata": {
            "tags": []
          },
          "execution_count": 74
        }
      ]
    },
    {
      "cell_type": "code",
      "metadata": {
        "id": "MSpG1TWsmifG",
        "colab": {
          "base_uri": "https://localhost:8080/"
        },
        "outputId": "1378dab2-f049-4e6b-e925-cbc0e9f90443"
      },
      "source": [
        "housing_prepared.shape"
      ],
      "execution_count": 75,
      "outputs": [
        {
          "output_type": "execute_result",
          "data": {
            "text/plain": [
              "(16512, 16)"
            ]
          },
          "metadata": {
            "tags": []
          },
          "execution_count": 75
        }
      ]
    },
    {
      "cell_type": "code",
      "metadata": {
        "colab": {
          "base_uri": "https://localhost:8080/"
        },
        "id": "ckHthTcbKTgp",
        "outputId": "c80a849c-b862-4c7a-b703-37064e76d1e0"
      },
      "source": [
        "from sklearn.linear_model import LinearRegression\r\n",
        "lin_reg = LinearRegression()\r\n",
        "lin_reg.fit(housing_prepared, housing_labels)"
      ],
      "execution_count": 76,
      "outputs": [
        {
          "output_type": "execute_result",
          "data": {
            "text/plain": [
              "LinearRegression(copy_X=True, fit_intercept=True, n_jobs=None, normalize=False)"
            ]
          },
          "metadata": {
            "tags": []
          },
          "execution_count": 76
        }
      ]
    },
    {
      "cell_type": "code",
      "metadata": {
        "colab": {
          "base_uri": "https://localhost:8080/"
        },
        "id": "MSPYH9mBLTZT",
        "outputId": "89426dc6-2741-4fb9-967f-1c416ac7d0ed"
      },
      "source": [
        "some_data = housing.iloc[:5]\r\n",
        "some_labels = housing_labels.iloc[:5]\r\n",
        "some_data_prepared = full_pipeline.transform(some_data)\r\n",
        "print(\"Predictions:\", lin_reg.predict(some_data_prepared))"
      ],
      "execution_count": 77,
      "outputs": [
        {
          "output_type": "stream",
          "text": [
            "Predictions: [210644.60459286 317768.80697211 210956.43331178  59218.98886849\n",
            " 189747.55849879]\n"
          ],
          "name": "stdout"
        }
      ]
    },
    {
      "cell_type": "code",
      "metadata": {
        "colab": {
          "base_uri": "https://localhost:8080/"
        },
        "id": "v--W7_VzNb9w",
        "outputId": "33425043-199b-4160-afff-2b5dc659d446"
      },
      "source": [
        "print(\"Labels:\", list(some_labels))"
      ],
      "execution_count": 78,
      "outputs": [
        {
          "output_type": "stream",
          "text": [
            "Labels: [286600.0, 340600.0, 196900.0, 46300.0, 254500.0]\n"
          ],
          "name": "stdout"
        }
      ]
    },
    {
      "cell_type": "markdown",
      "metadata": {
        "id": "6GNcIlgtNtib"
      },
      "source": [
        "Bad Prediction\r\n"
      ]
    },
    {
      "cell_type": "code",
      "metadata": {
        "colab": {
          "base_uri": "https://localhost:8080/"
        },
        "id": "KpuJNxjqNw2h",
        "outputId": "d2425f30-c750-466d-c15d-dfbcc115748f"
      },
      "source": [
        "from sklearn.metrics import mean_squared_error\r\n",
        "housing_predictions = lin_reg.predict(housing_prepared)\r\n",
        "lin_mse = mean_squared_error(housing_labels, housing_predictions)\r\n",
        "lin_rmse = np.sqrt(lin_mse)\r\n",
        "lin_rmse"
      ],
      "execution_count": 79,
      "outputs": [
        {
          "output_type": "execute_result",
          "data": {
            "text/plain": [
              "68628.19819848923"
            ]
          },
          "metadata": {
            "tags": []
          },
          "execution_count": 79
        }
      ]
    },
    {
      "cell_type": "code",
      "metadata": {
        "colab": {
          "base_uri": "https://localhost:8080/"
        },
        "id": "gZx6366NUy1y",
        "outputId": "fb055933-535c-4fc2-cb7c-8237b9830c9b"
      },
      "source": [
        "from sklearn.tree import DecisionTreeRegressor\r\n",
        "tree_reg = DecisionTreeRegressor()\r\n",
        "tree_reg.fit(housing_prepared, housing_labels)"
      ],
      "execution_count": 80,
      "outputs": [
        {
          "output_type": "execute_result",
          "data": {
            "text/plain": [
              "DecisionTreeRegressor(ccp_alpha=0.0, criterion='mse', max_depth=None,\n",
              "                      max_features=None, max_leaf_nodes=None,\n",
              "                      min_impurity_decrease=0.0, min_impurity_split=None,\n",
              "                      min_samples_leaf=1, min_samples_split=2,\n",
              "                      min_weight_fraction_leaf=0.0, presort='deprecated',\n",
              "                      random_state=None, splitter='best')"
            ]
          },
          "metadata": {
            "tags": []
          },
          "execution_count": 80
        }
      ]
    },
    {
      "cell_type": "code",
      "metadata": {
        "colab": {
          "base_uri": "https://localhost:8080/"
        },
        "id": "z168EWo_U5H7",
        "outputId": "28deeae8-fcc6-40f8-ef3f-17f574958d3a"
      },
      "source": [
        "housing_predictions = tree_reg.predict(housing_prepared)\r\n",
        "tree_mse = mean_squared_error(housing_labels, housing_predictions)\r\n",
        "tree_rmse = np.sqrt(tree_mse)\r\n",
        "tree_rmse"
      ],
      "execution_count": 81,
      "outputs": [
        {
          "output_type": "execute_result",
          "data": {
            "text/plain": [
              "0.0"
            ]
          },
          "metadata": {
            "tags": []
          },
          "execution_count": 81
        }
      ]
    },
    {
      "cell_type": "code",
      "metadata": {
        "id": "zAQ3hIzIVBx2"
      },
      "source": [
        "from sklearn.model_selection import cross_val_score\r\n",
        "scores = cross_val_score(tree_reg, housing_prepared, housing_labels,\r\n",
        "scoring=\"neg_mean_squared_error\", cv=10)\r\n",
        "tree_rmse_scores = np.sqrt(-scores)"
      ],
      "execution_count": 82,
      "outputs": []
    },
    {
      "cell_type": "code",
      "metadata": {
        "colab": {
          "base_uri": "https://localhost:8080/"
        },
        "id": "cUCIWssZXjW3",
        "outputId": "d7b8bb8b-234c-452a-e7d7-3d62180fa546"
      },
      "source": [
        "def display_scores(scores):\r\n",
        "  print(\"Scores:\", scores)\r\n",
        "  print(\"Mean:\", scores.mean())\r\n",
        "  print(\"Standard deviation:\", scores.std())\r\n",
        "  \r\n",
        "display_scores(tree_rmse_scores)  "
      ],
      "execution_count": 83,
      "outputs": [
        {
          "output_type": "stream",
          "text": [
            "Scores: [69991.79875885 66767.93466872 71368.44470925 68656.25325314\n",
            " 71985.88503996 74494.07008978 72123.59972962 70482.42265111\n",
            " 76990.57145807 69823.63891161]\n",
            "Mean: 71268.46192701164\n",
            "Standard deviation: 2753.482495656766\n"
          ],
          "name": "stdout"
        }
      ]
    },
    {
      "cell_type": "code",
      "metadata": {
        "colab": {
          "base_uri": "https://localhost:8080/"
        },
        "id": "DlXi22zbYCUD",
        "outputId": "1df027c6-3f3d-4bed-e2cd-60170daec29b"
      },
      "source": [
        "lin_scores = cross_val_score(lin_reg, housing_prepared, housing_labels,\r\n",
        " scoring=\"neg_mean_squared_error\", cv=10)\r\n",
        "\r\n",
        "lin_rmse_scores = np.sqrt(-lin_scores)\r\n",
        "display_scores(lin_rmse_scores)"
      ],
      "execution_count": 84,
      "outputs": [
        {
          "output_type": "stream",
          "text": [
            "Scores: [66782.73843989 66960.118071   70347.95244419 74739.57052552\n",
            " 68031.13388938 71193.84183426 64969.63056405 68281.61137997\n",
            " 71552.91566558 67665.10082067]\n",
            "Mean: 69052.46136345083\n",
            "Standard deviation: 2731.674001798344\n"
          ],
          "name": "stdout"
        }
      ]
    },
    {
      "cell_type": "code",
      "metadata": {
        "colab": {
          "base_uri": "https://localhost:8080/"
        },
        "id": "WuBbVW2UYar-",
        "outputId": "e275b0e2-d165-477b-9cdb-782d4eaea828"
      },
      "source": [
        "from sklearn.ensemble import RandomForestRegressor\r\n",
        "forest_reg = RandomForestRegressor()\r\n",
        "forest_reg.fit(housing_prepared, housing_labels)\r\n",
        "housing_predictions = forest_reg.predict(housing_prepared)\r\n",
        "forest_mse = mean_squared_error(housing_labels, housing_predictions)\r\n",
        "forest_rmse = np.sqrt(forest_mse)\r\n",
        "forest_rmse"
      ],
      "execution_count": 85,
      "outputs": [
        {
          "output_type": "execute_result",
          "data": {
            "text/plain": [
              "18718.775219296156"
            ]
          },
          "metadata": {
            "tags": []
          },
          "execution_count": 85
        }
      ]
    },
    {
      "cell_type": "code",
      "metadata": {
        "id": "qL2SL1rnZn0g"
      },
      "source": [
        "forest_scores = cross_val_score(forest_reg, housing_prepared, housing_labels,\r\n",
        "scoring=\"neg_mean_squared_error\", cv=10)\r\n",
        "forest_rmse_scores = np.sqrt(-forest_scores)"
      ],
      "execution_count": 86,
      "outputs": []
    },
    {
      "cell_type": "code",
      "metadata": {
        "colab": {
          "base_uri": "https://localhost:8080/"
        },
        "id": "sU17DyDTZMJJ",
        "outputId": "6e9040db-39b5-416d-9cc3-169ffade50f6"
      },
      "source": [
        "display_scores(forest_rmse_scores)"
      ],
      "execution_count": 87,
      "outputs": [
        {
          "output_type": "stream",
          "text": [
            "Scores: [49206.57111011 47636.32943578 49640.64857289 52446.24915507\n",
            " 49903.12028201 53261.86095403 48580.9253818  47915.864565\n",
            " 52897.69866797 50120.41975992]\n",
            "Mean: 50160.96878845671\n",
            "Standard deviation: 1936.1895863594132\n"
          ],
          "name": "stdout"
        }
      ]
    },
    {
      "cell_type": "code",
      "metadata": {
        "colab": {
          "base_uri": "https://localhost:8080/"
        },
        "id": "FZ07lbskc97x",
        "outputId": "1e829aa6-a541-40ad-de9d-d5ecf707d6c7"
      },
      "source": [
        "from sklearn.model_selection import GridSearchCV\r\n",
        "param_grid = [\r\n",
        "{'n_estimators': [3, 10, 30], 'max_features': [2, 4, 6, 8]},\r\n",
        "{'bootstrap': [False], 'n_estimators': [3, 10], 'max_features': [2, 3, 4]},\r\n",
        "]\r\n",
        "forest_reg = RandomForestRegressor()\r\n",
        "grid_search = GridSearchCV(forest_reg, param_grid, cv=5,\r\n",
        "scoring='neg_mean_squared_error')\r\n",
        "grid_search.fit(housing_prepared, housing_labels)"
      ],
      "execution_count": 88,
      "outputs": [
        {
          "output_type": "execute_result",
          "data": {
            "text/plain": [
              "GridSearchCV(cv=5, error_score=nan,\n",
              "             estimator=RandomForestRegressor(bootstrap=True, ccp_alpha=0.0,\n",
              "                                             criterion='mse', max_depth=None,\n",
              "                                             max_features='auto',\n",
              "                                             max_leaf_nodes=None,\n",
              "                                             max_samples=None,\n",
              "                                             min_impurity_decrease=0.0,\n",
              "                                             min_impurity_split=None,\n",
              "                                             min_samples_leaf=1,\n",
              "                                             min_samples_split=2,\n",
              "                                             min_weight_fraction_leaf=0.0,\n",
              "                                             n_estimators=100, n_jobs=None,\n",
              "                                             oob_score=False, random_state=None,\n",
              "                                             verbose=0, warm_start=False),\n",
              "             iid='deprecated', n_jobs=None,\n",
              "             param_grid=[{'max_features': [2, 4, 6, 8],\n",
              "                          'n_estimators': [3, 10, 30]},\n",
              "                         {'bootstrap': [False], 'max_features': [2, 3, 4],\n",
              "                          'n_estimators': [3, 10]}],\n",
              "             pre_dispatch='2*n_jobs', refit=True, return_train_score=False,\n",
              "             scoring='neg_mean_squared_error', verbose=0)"
            ]
          },
          "metadata": {
            "tags": []
          },
          "execution_count": 88
        }
      ]
    },
    {
      "cell_type": "code",
      "metadata": {
        "colab": {
          "base_uri": "https://localhost:8080/"
        },
        "id": "LGZMb_01orKd",
        "outputId": "f97b6bd3-ba08-43de-8c80-42df24b37641"
      },
      "source": [
        "grid_search.best_params_"
      ],
      "execution_count": 89,
      "outputs": [
        {
          "output_type": "execute_result",
          "data": {
            "text/plain": [
              "{'max_features': 6, 'n_estimators': 30}"
            ]
          },
          "metadata": {
            "tags": []
          },
          "execution_count": 89
        }
      ]
    },
    {
      "cell_type": "code",
      "metadata": {
        "colab": {
          "base_uri": "https://localhost:8080/"
        },
        "id": "PCj_S9WlqSvW",
        "outputId": "dafea389-f751-4fe4-93de-1b8c70e9a700"
      },
      "source": [
        "grid_search.best_estimator_"
      ],
      "execution_count": 90,
      "outputs": [
        {
          "output_type": "execute_result",
          "data": {
            "text/plain": [
              "RandomForestRegressor(bootstrap=True, ccp_alpha=0.0, criterion='mse',\n",
              "                      max_depth=None, max_features=6, max_leaf_nodes=None,\n",
              "                      max_samples=None, min_impurity_decrease=0.0,\n",
              "                      min_impurity_split=None, min_samples_leaf=1,\n",
              "                      min_samples_split=2, min_weight_fraction_leaf=0.0,\n",
              "                      n_estimators=30, n_jobs=None, oob_score=False,\n",
              "                      random_state=None, verbose=0, warm_start=False)"
            ]
          },
          "metadata": {
            "tags": []
          },
          "execution_count": 90
        }
      ]
    },
    {
      "cell_type": "code",
      "metadata": {
        "colab": {
          "base_uri": "https://localhost:8080/"
        },
        "id": "iYYQqvParRES",
        "outputId": "63e2f2e3-2405-4432-c9a0-cae89085cf61"
      },
      "source": [
        "cvres = grid_search.cv_results_\r\n",
        "for mean_score, params in zip(cvres[\"mean_test_score\"], cvres[\"params\"]):\r\n",
        " print(np.sqrt(-mean_score), params)"
      ],
      "execution_count": 91,
      "outputs": [
        {
          "output_type": "stream",
          "text": [
            "63403.44643403696 {'max_features': 2, 'n_estimators': 3}\n",
            "55570.24379902027 {'max_features': 2, 'n_estimators': 10}\n",
            "52724.16659438376 {'max_features': 2, 'n_estimators': 30}\n",
            "60630.68456088279 {'max_features': 4, 'n_estimators': 3}\n",
            "53039.14318990953 {'max_features': 4, 'n_estimators': 10}\n",
            "50558.463390022785 {'max_features': 4, 'n_estimators': 30}\n",
            "59175.620834532034 {'max_features': 6, 'n_estimators': 3}\n",
            "52366.92065291736 {'max_features': 6, 'n_estimators': 10}\n",
            "49781.07162637981 {'max_features': 6, 'n_estimators': 30}\n",
            "57920.13088273579 {'max_features': 8, 'n_estimators': 3}\n",
            "51941.72914380248 {'max_features': 8, 'n_estimators': 10}\n",
            "50068.59353352744 {'max_features': 8, 'n_estimators': 30}\n",
            "62795.59827458806 {'bootstrap': False, 'max_features': 2, 'n_estimators': 3}\n",
            "54534.63131673669 {'bootstrap': False, 'max_features': 2, 'n_estimators': 10}\n",
            "60197.90340710565 {'bootstrap': False, 'max_features': 3, 'n_estimators': 3}\n",
            "53122.46346117533 {'bootstrap': False, 'max_features': 3, 'n_estimators': 10}\n",
            "58139.073777179154 {'bootstrap': False, 'max_features': 4, 'n_estimators': 3}\n",
            "52203.97701645558 {'bootstrap': False, 'max_features': 4, 'n_estimators': 10}\n"
          ],
          "name": "stdout"
        }
      ]
    },
    {
      "cell_type": "code",
      "metadata": {
        "colab": {
          "base_uri": "https://localhost:8080/"
        },
        "id": "qYT7Pe-Ov3HL",
        "outputId": "251fe85b-45a0-462b-d0d7-89e7ade2c424"
      },
      "source": [
        "feature_importances = grid_search.best_estimator_.feature_importances_\r\n",
        "feature_importances"
      ],
      "execution_count": 92,
      "outputs": [
        {
          "output_type": "execute_result",
          "data": {
            "text/plain": [
              "array([6.92285391e-02, 6.40111321e-02, 4.62431180e-02, 1.87929721e-02,\n",
              "       1.70822696e-02, 1.97150985e-02, 1.67957665e-02, 3.52610487e-01,\n",
              "       5.91899538e-02, 1.08737984e-01, 6.37473292e-02, 9.96367545e-03,\n",
              "       1.45946272e-01, 1.27561651e-04, 2.60125170e-03, 5.20658938e-03])"
            ]
          },
          "metadata": {
            "tags": []
          },
          "execution_count": 92
        }
      ]
    },
    {
      "cell_type": "code",
      "metadata": {
        "id": "SufTXjT_Ew32"
      },
      "source": [
        "extra_attribs = [\"rooms_per_hhold\", \"pop_per_hhold\", \"bedrooms_per_room\"]\r\n",
        "cat_one_hot_attribs = list(encoder.classes_)\r\n",
        "attributes = num_attribs + extra_attribs + cat_one_hot_attribs\r\n",
        "sorted(zip(feature_importances, attributes), reverse=True)"
      ],
      "execution_count": 92,
      "outputs": []
    },
    {
      "cell_type": "code",
      "metadata": {
        "colab": {
          "base_uri": "https://localhost:8080/"
        },
        "id": "drajtwdMWRbk",
        "outputId": "9fe64e35-b70a-4ed9-825c-6c55fee0fdb7"
      },
      "source": [
        "final_model = grid_search.best_estimator_\r\n",
        "X_test = strat_test_set.drop(\"median_house_value\", axis=1)\r\n",
        "y_test = strat_test_set[\"median_house_value\"].copy()\r\n",
        "X_test_prepared = full_pipeline.transform(X_test)\r\n",
        "final_predictions = final_model.predict(X_test_prepared)\r\n",
        "final_mse = mean_squared_error(y_test, final_predictions)\r\n",
        "final_rmse = np.sqrt(final_mse)\r\n",
        "final_rmse"
      ],
      "execution_count": 96,
      "outputs": [
        {
          "output_type": "execute_result",
          "data": {
            "text/plain": [
              "48037.87994926376"
            ]
          },
          "metadata": {
            "tags": []
          },
          "execution_count": 96
        }
      ]
    }
  ]
}