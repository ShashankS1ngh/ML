{
  "nbformat": 4,
  "nbformat_minor": 0,
  "metadata": {
    "colab": {
      "name": "SPAMfilter.ipynb",
      "provenance": [],
      "authorship_tag": "ABX9TyMFpvd1mCurWPdGMSQ33WSW",
      "include_colab_link": true
    },
    "kernelspec": {
      "name": "python3",
      "display_name": "Python 3"
    }
  },
  "cells": [
    {
      "cell_type": "markdown",
      "metadata": {
        "id": "view-in-github",
        "colab_type": "text"
      },
      "source": [
        "<a href=\"https://colab.research.google.com/github/ShashankS1ngh/ML/blob/main/SPAMfilter.ipynb\" target=\"_parent\"><img src=\"https://colab.research.google.com/assets/colab-badge.svg\" alt=\"Open In Colab\"/></a>"
      ]
    },
    {
      "cell_type": "code",
      "metadata": {
        "id": "3010coVmhDTz"
      },
      "source": [
        "import os\r\n",
        "import tarfile\r\n",
        "from six.moves import urllib\r\n",
        "\r\n",
        "DOWNLOAD_ROOT = \"http://spamassassin.apache.org/old/publiccorpus/\"\r\n",
        "HAM_URL = DOWNLOAD_ROOT + \"20030228_easy_ham.tar.bz2\"\r\n",
        "SPAM_URL = DOWNLOAD_ROOT + \"20030228_spam.tar.bz2\"\r\n",
        "SPAM_PATH = os.path.join(\"datasets\", \"spam\")\r\n",
        "\r\n",
        "def fetch_spam_data(spam_url=SPAM_URL, spam_path=SPAM_PATH):\r\n",
        "    if not os.path.isdir(spam_path):\r\n",
        "        os.makedirs(spam_path)\r\n",
        "    for filename, url in ((\"ham.tar.bz2\", HAM_URL), (\"spam.tar.bz2\", SPAM_URL)):\r\n",
        "        path = os.path.join(spam_path, filename)\r\n",
        "        if not os.path.isfile(path):\r\n",
        "            urllib.request.urlretrieve(url, path)\r\n",
        "        tar_bz2_file = tarfile.open(path)\r\n",
        "        tar_bz2_file.extractall(path=SPAM_PATH)\r\n",
        "        tar_bz2_file.close()"
      ],
      "execution_count": 1,
      "outputs": []
    },
    {
      "cell_type": "code",
      "metadata": {
        "id": "FN-eWUxihOAG"
      },
      "source": [
        "fetch_spam_data()"
      ],
      "execution_count": 2,
      "outputs": []
    },
    {
      "cell_type": "code",
      "metadata": {
        "id": "FGvbhNsxhdoq"
      },
      "source": [
        "HAM_DIR = os.path.join(SPAM_PATH, \"easy_ham\")\r\n",
        "SPAM_DIR = os.path.join(SPAM_PATH, \"spam\")\r\n",
        "ham_filenames = [name for name in sorted(os.listdir(HAM_DIR)) if len(name) > 20]\r\n",
        "spam_filenames = [name for name in sorted(os.listdir(SPAM_DIR)) if len(name) > 20]"
      ],
      "execution_count": 3,
      "outputs": []
    },
    {
      "cell_type": "code",
      "metadata": {
        "id": "iW4IdUIMhhSt"
      },
      "source": [
        "import email\r\n",
        "import email.policy\r\n",
        "\r\n",
        "def load_email(is_spam, filename, spam_path=SPAM_PATH):\r\n",
        "    directory = \"spam\" if is_spam else \"easy_ham\"\r\n",
        "    with open(os.path.join(spam_path, directory, filename), \"rb\") as f:\r\n",
        "        return email.parser.BytesParser(policy=email.policy.default).parse(f)"
      ],
      "execution_count": 4,
      "outputs": []
    },
    {
      "cell_type": "code",
      "metadata": {
        "id": "h3q2i63jhrZt"
      },
      "source": [
        "ham_emails = [load_email(is_spam=False, filename=name) for name in ham_filenames]\r\n",
        "spam_emails = [load_email(is_spam=True, filename=name) for name in spam_filenames]"
      ],
      "execution_count": 5,
      "outputs": []
    },
    {
      "cell_type": "code",
      "metadata": {
        "colab": {
          "base_uri": "https://localhost:8080/"
        },
        "id": "UaLIikGHhvG1",
        "outputId": "6515c4d9-1829-4b6b-f328-ea6c1b134d02"
      },
      "source": [
        "print(ham_emails[2].get_content().strip())"
      ],
      "execution_count": 6,
      "outputs": [
        {
          "output_type": "stream",
          "text": [
            "Man Threatens Explosion In Moscow \n",
            "\n",
            "Thursday August 22, 2002 1:40 PM\n",
            "MOSCOW (AP) - Security officers on Thursday seized an unidentified man who\n",
            "said he was armed with explosives and threatened to blow up his truck in\n",
            "front of Russia's Federal Security Services headquarters in Moscow, NTV\n",
            "television reported.\n",
            "The officers seized an automatic rifle the man was carrying, then the man\n",
            "got out of the truck and was taken into custody, NTV said. No other details\n",
            "were immediately available.\n",
            "The man had demanded talks with high government officials, the Interfax and\n",
            "ITAR-Tass news agencies said. Ekho Moskvy radio reported that he wanted to\n",
            "talk with Russian President Vladimir Putin.\n",
            "Police and security forces rushed to the Security Service building, within\n",
            "blocks of the Kremlin, Red Square and the Bolshoi Ballet, and surrounded the\n",
            "man, who claimed to have one and a half tons of explosives, the news\n",
            "agencies said. Negotiations continued for about one and a half hours outside\n",
            "the building, ITAR-Tass and Interfax reported, citing witnesses.\n",
            "The man later drove away from the building, under police escort, and drove\n",
            "to a street near Moscow's Olympic Penta Hotel, where authorities held\n",
            "further negotiations with him, the Moscow police press service said. The\n",
            "move appeared to be an attempt by security services to get him to a more\n",
            "secure location. \n",
            "\n",
            "------------------------ Yahoo! Groups Sponsor ---------------------~-->\n",
            "4 DVDs Free +s&p Join Now\n",
            "http://us.click.yahoo.com/pt6YBB/NXiEAA/mG3HAA/7gSolB/TM\n",
            "---------------------------------------------------------------------~->\n",
            "\n",
            "To unsubscribe from this group, send an email to:\n",
            "forteana-unsubscribe@egroups.com\n",
            "\n",
            " \n",
            "\n",
            "Your use of Yahoo! Groups is subject to http://docs.yahoo.com/info/terms/\n"
          ],
          "name": "stdout"
        }
      ]
    },
    {
      "cell_type": "code",
      "metadata": {
        "colab": {
          "base_uri": "https://localhost:8080/"
        },
        "id": "QflPJu1Jh1dL",
        "outputId": "d98b7adf-3546-495a-c2e7-83313365f2d7"
      },
      "source": [
        "print(spam_emails[5].get_content().strip())"
      ],
      "execution_count": 8,
      "outputs": [
        {
          "output_type": "stream",
          "text": [
            "A POWERHOUSE GIFTING PROGRAM You Don't Want To Miss! \n",
            " \n",
            "  GET IN WITH THE FOUNDERS! \n",
            "The MAJOR PLAYERS are on This ONE\n",
            "For ONCE be where the PlayerS are\n",
            "This is YOUR Private Invitation\n",
            "\n",
            "EXPERTS ARE CALLING THIS THE FASTEST WAY \n",
            "TO HUGE CASH FLOW EVER CONCEIVED\n",
            "Leverage $1,000 into $50,000 Over and Over Again\n",
            "\n",
            "THE QUESTION HERE IS:\n",
            "YOU EITHER WANT TO BE WEALTHY \n",
            "OR YOU DON'T!!!\n",
            "WHICH ONE ARE YOU?\n",
            "I am tossing you a financial lifeline and for your sake I \n",
            "Hope you GRAB onto it and hold on tight For the Ride of youR life!\n",
            "\n",
            "Testimonials\n",
            "\n",
            "Hear what average people are doing their first few days:\n",
            "�We've received 8,000 in 1 day and we are doing that over and over again!' Q.S. in AL\n",
            " �I'm a single mother in FL and I've received 12,000 in the last 4 days.� D. S. in FL\n",
            "�I was not sure about this when I sent off my $1,000 pledge, but I got back $2,000 the very next day!� L.L. in KY\n",
            "�I didn't have the money, so I found myself a partner to work this with. We have received $4,000 over the last 2 days. \n",
            "I think I made the right decision; don't you?� K. C. in FL\n",
            "�I pick up $3,000 my first day and I  they gave me free leads and all the training, you can too!� J.W. in CA\n",
            "\n",
            "ANNOUNCING: We will CLOSE your sales for YOU! And Help you get a Fax Blast IMMEDIATELY Upon Your Entry!!!    YOU Make the MONEY!!!\n",
            "FREE LEADS!!! TRAINING!!!\n",
            "\n",
            "$$DON'T WAIT!!! CALL NOW $$\n",
            "FAX BACK TO: 1-800-421-6318 OR Call 1-800-896-6568 \n",
            "\n",
            "Name__________________________________Phone___________________________________________\n",
            "\n",
            "Fax_____________________________________Email____________________________________________\n",
            "\n",
            "Best Time To Call_________________________Time Zone________________________________________\n",
            "\n",
            "This message is sent in compliance of the new e-mail bill. \"Per Section 301, Paragraph (a)(2)(C) of S. 1618, further transmissions by the sender of this email may be stopped, at no cost to you, by sending a reply to this email address with the word \"REMOVE\" in the subject line. Errors, omissions, and exceptions excluded.\n",
            " \n",
            "This is NOT spam! I have compiled this list from our Replicate Database, relative to Seattle Marketing Group, The Gigt, or Turbo Team for the sole purpose of these communications. Your continued inclusion is ONLY by your gracious permission. If you wish to not receive this mail from me, please send an email to tesrewinter@yahoo.com with \"Remove\" in the subject and you will be deleted immediately.\n"
          ],
          "name": "stdout"
        }
      ]
    },
    {
      "cell_type": "code",
      "metadata": {
        "id": "kmnc1t8AiDS_"
      },
      "source": [
        "def get_email_structure(email):\r\n",
        "    if isinstance(email, str):\r\n",
        "        return email\r\n",
        "    payload = email.get_payload()\r\n",
        "    if isinstance(payload, list):\r\n",
        "        return \"multipart({})\".format(\", \".join([\r\n",
        "            get_email_structure(sub_email)\r\n",
        "            for sub_email in payload\r\n",
        "        ]))\r\n",
        "    else:\r\n",
        "        return email.get_content_type()"
      ],
      "execution_count": 9,
      "outputs": []
    },
    {
      "cell_type": "code",
      "metadata": {
        "id": "z7TEYl96iNO8"
      },
      "source": [
        "from collections import Counter\r\n",
        "\r\n",
        "def structures_counter(emails):\r\n",
        "    structures = Counter()\r\n",
        "    for email in emails:\r\n",
        "        structure = get_email_structure(email)\r\n",
        "        structures[structure] += 1\r\n",
        "    return structures"
      ],
      "execution_count": 10,
      "outputs": []
    },
    {
      "cell_type": "code",
      "metadata": {
        "colab": {
          "base_uri": "https://localhost:8080/"
        },
        "id": "2b-NeMvHiOfU",
        "outputId": "96409be1-4bb5-429e-b7d5-ed5aac699fe8"
      },
      "source": [
        "structures_counter(ham_emails).most_common()"
      ],
      "execution_count": 11,
      "outputs": [
        {
          "output_type": "execute_result",
          "data": {
            "text/plain": [
              "[('text/plain', 2408),\n",
              " ('multipart(text/plain, application/pgp-signature)', 66),\n",
              " ('multipart(text/plain, text/html)', 8),\n",
              " ('multipart(text/plain, text/plain)', 4),\n",
              " ('multipart(text/plain)', 3),\n",
              " ('multipart(text/plain, application/octet-stream)', 2),\n",
              " ('multipart(text/plain, text/enriched)', 1),\n",
              " ('multipart(text/plain, application/ms-tnef, text/plain)', 1),\n",
              " ('multipart(multipart(text/plain, text/plain, text/plain), application/pgp-signature)',\n",
              "  1),\n",
              " ('multipart(text/plain, video/mng)', 1),\n",
              " ('multipart(text/plain, multipart(text/plain))', 1),\n",
              " ('multipart(text/plain, application/x-pkcs7-signature)', 1),\n",
              " ('multipart(text/plain, multipart(text/plain, text/plain), text/rfc822-headers)',\n",
              "  1),\n",
              " ('multipart(text/plain, multipart(text/plain, text/plain), multipart(multipart(text/plain, application/x-pkcs7-signature)))',\n",
              "  1),\n",
              " ('multipart(text/plain, application/x-java-applet)', 1)]"
            ]
          },
          "metadata": {
            "tags": []
          },
          "execution_count": 11
        }
      ]
    },
    {
      "cell_type": "code",
      "metadata": {
        "colab": {
          "base_uri": "https://localhost:8080/"
        },
        "id": "qDgZxfhqiSBF",
        "outputId": "e3302b10-9565-4c73-b10a-dfe403e92b90"
      },
      "source": [
        "structures_counter(spam_emails).most_common()"
      ],
      "execution_count": 12,
      "outputs": [
        {
          "output_type": "execute_result",
          "data": {
            "text/plain": [
              "[('text/plain', 218),\n",
              " ('text/html', 183),\n",
              " ('multipart(text/plain, text/html)', 45),\n",
              " ('multipart(text/html)', 20),\n",
              " ('multipart(text/plain)', 19),\n",
              " ('multipart(multipart(text/html))', 5),\n",
              " ('multipart(text/plain, image/jpeg)', 3),\n",
              " ('multipart(text/html, application/octet-stream)', 2),\n",
              " ('multipart(text/plain, application/octet-stream)', 1),\n",
              " ('multipart(text/html, text/plain)', 1),\n",
              " ('multipart(multipart(text/html), application/octet-stream, image/jpeg)', 1),\n",
              " ('multipart(multipart(text/plain, text/html), image/gif)', 1),\n",
              " ('multipart/alternative', 1)]"
            ]
          },
          "metadata": {
            "tags": []
          },
          "execution_count": 12
        }
      ]
    },
    {
      "cell_type": "code",
      "metadata": {
        "colab": {
          "base_uri": "https://localhost:8080/"
        },
        "id": "XqDArTOEiWGV",
        "outputId": "02754db8-e325-4faf-c68d-bc81bdb895bc"
      },
      "source": [
        "for header, value in spam_emails[0].items():\r\n",
        "    print(header,\":\",value)"
      ],
      "execution_count": 13,
      "outputs": [
        {
          "output_type": "stream",
          "text": [
            "Return-Path : <12a1mailbot1@web.de>\n",
            "Delivered-To : zzzz@localhost.spamassassin.taint.org\n",
            "Received : from localhost (localhost [127.0.0.1])\tby phobos.labs.spamassassin.taint.org (Postfix) with ESMTP id 136B943C32\tfor <zzzz@localhost>; Thu, 22 Aug 2002 08:17:21 -0400 (EDT)\n",
            "Received : from mail.webnote.net [193.120.211.219]\tby localhost with POP3 (fetchmail-5.9.0)\tfor zzzz@localhost (single-drop); Thu, 22 Aug 2002 13:17:21 +0100 (IST)\n",
            "Received : from dd_it7 ([210.97.77.167])\tby webnote.net (8.9.3/8.9.3) with ESMTP id NAA04623\tfor <zzzz@spamassassin.taint.org>; Thu, 22 Aug 2002 13:09:41 +0100\n",
            "From : 12a1mailbot1@web.de\n",
            "Received : from r-smtp.korea.com - 203.122.2.197 by dd_it7  with Microsoft SMTPSVC(5.5.1775.675.6);\t Sat, 24 Aug 2002 09:42:10 +0900\n",
            "To : dcek1a1@netsgo.com\n",
            "Subject : Life Insurance - Why Pay More?\n",
            "Date : Wed, 21 Aug 2002 20:31:57 -1600\n",
            "MIME-Version : 1.0\n",
            "Message-ID : <0103c1042001882DD_IT7@dd_it7>\n",
            "Content-Type : text/html; charset=\"iso-8859-1\"\n",
            "Content-Transfer-Encoding : quoted-printable\n"
          ],
          "name": "stdout"
        }
      ]
    },
    {
      "cell_type": "code",
      "metadata": {
        "colab": {
          "base_uri": "https://localhost:8080/",
          "height": 35
        },
        "id": "Cv_N1Ft2idsR",
        "outputId": "a25907be-5f92-447c-8db5-ba98861b188e"
      },
      "source": [
        "spam_emails[4][\"Subject\"]"
      ],
      "execution_count": 15,
      "outputs": [
        {
          "output_type": "execute_result",
          "data": {
            "application/vnd.google.colaboratory.intrinsic+json": {
              "type": "string"
            },
            "text/plain": [
              "'[ILUG-Social] re: Guaranteed to lose 10-12 lbs in 30 days 10.148'"
            ]
          },
          "metadata": {
            "tags": []
          },
          "execution_count": 15
        }
      ]
    },
    {
      "cell_type": "code",
      "metadata": {
        "colab": {
          "base_uri": "https://localhost:8080/"
        },
        "id": "crhyQ54aihTO",
        "outputId": "e7e4ce57-d870-40d2-ce4a-55700afe7952"
      },
      "source": [
        "import numpy as np\r\n",
        "from sklearn.model_selection import train_test_split\r\n",
        "\r\n",
        "X = np.array(ham_emails + spam_emails)\r\n",
        "y = np.array([0] * len(ham_emails) + [1] * len(spam_emails))\r\n",
        "\r\n",
        "X_train, X_test, y_train, y_test = train_test_split(X, y, test_size=0.2, random_state=42)"
      ],
      "execution_count": 16,
      "outputs": [
        {
          "output_type": "stream",
          "text": [
            "/usr/local/lib/python3.6/dist-packages/ipykernel_launcher.py:4: VisibleDeprecationWarning: Creating an ndarray from ragged nested sequences (which is a list-or-tuple of lists-or-tuples-or ndarrays with different lengths or shapes) is deprecated. If you meant to do this, you must specify 'dtype=object' when creating the ndarray\n",
            "  after removing the cwd from sys.path.\n"
          ],
          "name": "stderr"
        }
      ]
    },
    {
      "cell_type": "code",
      "metadata": {
        "id": "NpPA32c6jtQ7"
      },
      "source": [
        "import re\r\n",
        "from html import unescape\r\n",
        "\r\n",
        "def html_to_plain_text(html):\r\n",
        "    text = re.sub('<head.*?>.*?</head>', '', html, flags=re.M | re.S | re.I)\r\n",
        "    text = re.sub('<a\\s.*?>', ' HYPERLINK ', text, flags=re.M | re.S | re.I)\r\n",
        "    text = re.sub('<.*?>', '', text, flags=re.M | re.S)\r\n",
        "    text = re.sub(r'(\\s*\\n)+', '\\n', text, flags=re.M | re.S)\r\n",
        "    return unescape(text)"
      ],
      "execution_count": 17,
      "outputs": []
    },
    {
      "cell_type": "code",
      "metadata": {
        "colab": {
          "base_uri": "https://localhost:8080/"
        },
        "id": "avRxEYs4juvq",
        "outputId": "a77ed061-a9bf-4963-d526-487ea8e11879"
      },
      "source": [
        "html_spam_emails = [email for email in X_train[y_train==1]\r\n",
        "                    if get_email_structure(email) == \"text/html\"]\r\n",
        "sample_html_spam = html_spam_emails[7]\r\n",
        "print(sample_html_spam.get_content().strip()[:1000], \"...\")"
      ],
      "execution_count": 18,
      "outputs": [
        {
          "output_type": "stream",
          "text": [
            "<HTML><HEAD><TITLE></TITLE><META http-equiv=\"Content-Type\" content=\"text/html; charset=windows-1252\"><STYLE>A:link {TEX-DECORATION: none}A:active {TEXT-DECORATION: none}A:visited {TEXT-DECORATION: none}A:hover {COLOR: #0033ff; TEXT-DECORATION: underline}</STYLE><META content=\"MSHTML 6.00.2713.1100\" name=\"GENERATOR\"></HEAD>\n",
            "<BODY text=\"#000000\" vLink=\"#0033ff\" link=\"#0033ff\" bgColor=\"#CCCC99\"><TABLE borderColor=\"#660000\" cellSpacing=\"0\" cellPadding=\"0\" border=\"0\" width=\"100%\"><TR><TD bgColor=\"#CCCC99\" valign=\"top\" colspan=\"2\" height=\"27\">\n",
            "<font size=\"6\" face=\"Arial, Helvetica, sans-serif\" color=\"#660000\">\n",
            "<b>OTC</b></font></TD></TR><TR><TD height=\"2\" bgcolor=\"#6a694f\">\n",
            "<font size=\"5\" face=\"Times New Roman, Times, serif\" color=\"#FFFFFF\">\n",
            "<b>&nbsp;Newsletter</b></font></TD><TD height=\"2\" bgcolor=\"#6a694f\"><div align=\"right\"><font color=\"#FFFFFF\">\n",
            "<b>Discover Tomorrow's Winners&nbsp;</b></font></div></TD></TR><TR><TD height=\"25\" colspan=\"2\" bgcolor=\"#CCCC99\"><table width=\"100%\" border=\"0\"  ...\n"
          ],
          "name": "stdout"
        }
      ]
    },
    {
      "cell_type": "code",
      "metadata": {
        "id": "NEDkRgIYjz-y"
      },
      "source": [
        "def email_to_text(email):\r\n",
        "    html = None\r\n",
        "    for part in email.walk():\r\n",
        "        ctype = part.get_content_type()\r\n",
        "        if not ctype in (\"text/plain\", \"text/html\"):\r\n",
        "            continue\r\n",
        "        try:\r\n",
        "            content = part.get_content()\r\n",
        "        except: # in case of encoding issues\r\n",
        "            content = str(part.get_payload())\r\n",
        "        if ctype == \"text/plain\":\r\n",
        "            return content\r\n",
        "        else:\r\n",
        "            html = content\r\n",
        "    if html:\r\n",
        "        return html_to_plain_text(html)"
      ],
      "execution_count": 19,
      "outputs": []
    },
    {
      "cell_type": "code",
      "metadata": {
        "colab": {
          "base_uri": "https://localhost:8080/"
        },
        "id": "379gTJiDj50l",
        "outputId": "4e09e5ea-b7ed-480d-9662-514f751b6193"
      },
      "source": [
        "print(email_to_text(sample_html_spam)[:100], \"...\")"
      ],
      "execution_count": 20,
      "outputs": [
        {
          "output_type": "stream",
          "text": [
            "\n",
            "OTC\n",
            " Newsletter\n",
            "Discover Tomorrow's Winners \n",
            "For Immediate Release\n",
            "Cal-Bay (Stock Symbol: CBYI)\n",
            "Wat ...\n"
          ],
          "name": "stdout"
        }
      ]
    },
    {
      "cell_type": "code",
      "metadata": {
        "colab": {
          "base_uri": "https://localhost:8080/"
        },
        "id": "Ovg2IwSLlHiz",
        "outputId": "04cdafa8-3dcc-4742-cd9e-4f8021d37e43"
      },
      "source": [
        "try:\r\n",
        "    import nltk\r\n",
        "\r\n",
        "    stemmer = nltk.PorterStemmer()\r\n",
        "    for word in (\"Computations\", \"Computation\", \"Computing\", \"Computed\", \"Compute\", \"Compulsive\"):\r\n",
        "        print(word, \"=>\", stemmer.stem(word))\r\n",
        "except ImportError:\r\n",
        "    print(\"Error: stemming requires the NLTK module.\")\r\n",
        "    stemmer = None"
      ],
      "execution_count": 21,
      "outputs": [
        {
          "output_type": "stream",
          "text": [
            "Computations => comput\n",
            "Computation => comput\n",
            "Computing => comput\n",
            "Computed => comput\n",
            "Compute => comput\n",
            "Compulsive => compuls\n"
          ],
          "name": "stdout"
        }
      ]
    }
  ]
}