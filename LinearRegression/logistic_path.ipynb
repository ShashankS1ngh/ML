{
  "nbformat": 4,
  "nbformat_minor": 0,
  "metadata": {
    "kernelspec": {
      "display_name": "Python 3",
      "language": "python",
      "name": "python3"
    },
    "language_info": {
      "codemirror_mode": {
        "name": "ipython",
        "version": 3
      },
      "file_extension": ".py",
      "mimetype": "text/x-python",
      "name": "python",
      "nbconvert_exporter": "python",
      "pygments_lexer": "ipython3",
      "version": "3.9.1"
    },
    "colab": {
      "name": "logistic_path.ipynb",
      "provenance": [],
      "include_colab_link": true
    }
  },
  "cells": [
    {
      "cell_type": "markdown",
      "metadata": {
        "id": "view-in-github",
        "colab_type": "text"
      },
      "source": [
        "<a href=\"https://colab.research.google.com/github/ShashankS1ngh/ML/blob/main/LinearRegression/logistic_path.ipynb\" target=\"_parent\"><img src=\"https://colab.research.google.com/assets/colab-badge.svg\" alt=\"Open In Colab\"/></a>"
      ]
    },
    {
      "cell_type": "code",
      "metadata": {
        "id": "yjAtMgcF6Eb2"
      },
      "source": [
        "%matplotlib inline"
      ],
      "execution_count": 1,
      "outputs": []
    },
    {
      "cell_type": "code",
      "metadata": {
        "colab": {
          "base_uri": "https://localhost:8080/",
          "height": 346
        },
        "id": "DS9Lzg-t6EcP",
        "outputId": "32459f73-17f1-4e54-871a-3c2e0c705d3a"
      },
      "source": [
        "print(__doc__)\n",
        "\n",
        "# Author: Alexandre Gramfort <alexandre.gramfort@inria.fr>\n",
        "# License: BSD 3 clause\n",
        "\n",
        "from time import time\n",
        "import numpy as np\n",
        "import matplotlib.pyplot as plt\n",
        "\n",
        "from sklearn import linear_model\n",
        "from sklearn import datasets\n",
        "from sklearn.svm import l1_min_c\n",
        "\n",
        "iris = datasets.load_iris()\n",
        "X = iris.data\n",
        "y = iris.target\n",
        "\n",
        "X = X[y != 2]\n",
        "y = y[y != 2]\n",
        "\n",
        "X /= X.max()  # Normalize X to speed-up convergence\n",
        "\n",
        "# #############################################################################\n",
        "# Demo path functions\n",
        "\n",
        "cs = l1_min_c(X, y, loss='log') * np.logspace(0, 7, 16)\n",
        "\n",
        "\n",
        "print(\"Computing regularization path ...\")\n",
        "start = time()\n",
        "clf = linear_model.LogisticRegression(penalty='l1', solver='liblinear',\n",
        "                                      tol=1e-6, max_iter=int(1e6),\n",
        "                                      warm_start=True,\n",
        "                                      intercept_scaling=10000.)\n",
        "coefs_ = []\n",
        "for c in cs:\n",
        "    clf.set_params(C=c)\n",
        "    clf.fit(X, y)\n",
        "    coefs_.append(clf.coef_.ravel().copy())\n",
        "print(\"This took %0.3fs\" % (time() - start))\n",
        "\n",
        "coefs_ = np.array(coefs_)\n",
        "plt.plot(np.log10(cs), coefs_, marker='o')\n",
        "ymin, ymax = plt.ylim()\n",
        "plt.xlabel('log(C)')\n",
        "plt.ylabel('Coefficients')\n",
        "plt.title('Logistic Regression Path')\n",
        "plt.axis('tight')\n",
        "plt.show()"
      ],
      "execution_count": 2,
      "outputs": [
        {
          "output_type": "stream",
          "text": [
            "Automatically created module for IPython interactive environment\n",
            "Computing regularization path ...\n",
            "This took 0.080s\n"
          ],
          "name": "stdout"
        },
        {
          "output_type": "display_data",
          "data": {
            "image/png": "[encoded data removed]",
            "text/plain": [
              "<Figure size 432x288 with 1 Axes>"
            ]
          },
          "metadata": {
            "tags": [],
            "needs_background": "light"
          }
        }
      ]
    }
  ]
}