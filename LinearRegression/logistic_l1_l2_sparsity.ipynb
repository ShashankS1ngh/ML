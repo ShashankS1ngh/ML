{
  "nbformat": 4,
  "nbformat_minor": 0,
  "metadata": {
    "kernelspec": {
      "display_name": "Python 3",
      "language": "python",
      "name": "python3"
    },
    "language_info": {
      "codemirror_mode": {
        "name": "ipython",
        "version": 3
      },
      "file_extension": ".py",
      "mimetype": "text/x-python",
      "name": "python",
      "nbconvert_exporter": "python",
      "pygments_lexer": "ipython3",
      "version": "3.9.1"
    },
    "colab": {
      "name": "logistic_l1_l2_sparsity.ipynb",
      "provenance": [],
      "include_colab_link": true
    }
  },
  "cells": [
    {
      "cell_type": "markdown",
      "metadata": {
        "id": "view-in-github",
        "colab_type": "text"
      },
      "source": [
        "<a href=\"https://colab.research.google.com/github/ShashankS1ngh/ML/blob/main/LinearRegression/logistic_l1_l2_sparsity.ipynb\" target=\"_parent\"><img src=\"https://colab.research.google.com/assets/colab-badge.svg\" alt=\"Open In Colab\"/></a>"
      ]
    },
    {
      "cell_type": "code",
      "metadata": {
        "id": "9UQhUj9V2V6q"
      },
      "source": [
        "%matplotlib inline"
      ],
      "execution_count": 1,
      "outputs": []
    },
    {
      "cell_type": "code",
      "metadata": {
        "colab": {
          "base_uri": "https://localhost:8080/",
          "height": 653
        },
        "id": "L4_M9PiC2V7L",
        "outputId": "5b4fd25d-6db6-4c4f-b63d-b1e9abcea6de"
      },
      "source": [
        "print(__doc__)\n",
        "\n",
        "# Authors: Alexandre Gramfort <alexandre.gramfort@inria.fr>\n",
        "#          Mathieu Blondel <mathieu@mblondel.org>\n",
        "#          Andreas Mueller <amueller@ais.uni-bonn.de>\n",
        "# License: BSD 3 clause\n",
        "\n",
        "import numpy as np\n",
        "import matplotlib.pyplot as plt\n",
        "\n",
        "from sklearn.linear_model import LogisticRegression\n",
        "from sklearn import datasets\n",
        "from sklearn.preprocessing import StandardScaler\n",
        "\n",
        "X, y = datasets.load_digits(return_X_y=True)\n",
        "\n",
        "X = StandardScaler().fit_transform(X)\n",
        "\n",
        "# classify small against large digits\n",
        "y = (y > 4).astype(int)\n",
        "\n",
        "l1_ratio = 0.5  # L1 weight in the Elastic-Net regularization\n",
        "\n",
        "fig, axes = plt.subplots(3, 3)\n",
        "\n",
        "# Set regularization parameter\n",
        "for i, (C, axes_row) in enumerate(zip((1, 0.1, 0.01), axes)):\n",
        "    # turn down tolerance for short training time\n",
        "    clf_l1_LR = LogisticRegression(C=C, penalty='l1', tol=0.01, solver='saga')\n",
        "    clf_l2_LR = LogisticRegression(C=C, penalty='l2', tol=0.01, solver='saga')\n",
        "    clf_en_LR = LogisticRegression(C=C, penalty='elasticnet', solver='saga',\n",
        "                                   l1_ratio=l1_ratio, tol=0.01)\n",
        "    clf_l1_LR.fit(X, y)\n",
        "    clf_l2_LR.fit(X, y)\n",
        "    clf_en_LR.fit(X, y)\n",
        "\n",
        "    coef_l1_LR = clf_l1_LR.coef_.ravel()\n",
        "    coef_l2_LR = clf_l2_LR.coef_.ravel()\n",
        "    coef_en_LR = clf_en_LR.coef_.ravel()\n",
        "\n",
        "    # coef_l1_LR contains zeros due to the\n",
        "    # L1 sparsity inducing norm\n",
        "\n",
        "    sparsity_l1_LR = np.mean(coef_l1_LR == 0) * 100\n",
        "    sparsity_l2_LR = np.mean(coef_l2_LR == 0) * 100\n",
        "    sparsity_en_LR = np.mean(coef_en_LR == 0) * 100\n",
        "\n",
        "    print(\"C=%.2f\" % C)\n",
        "    print(\"{:<40} {:.2f}%\".format(\"Sparsity with L1 penalty:\", sparsity_l1_LR))\n",
        "    print(\"{:<40} {:.2f}%\".format(\"Sparsity with Elastic-Net penalty:\",\n",
        "                                  sparsity_en_LR))\n",
        "    print(\"{:<40} {:.2f}%\".format(\"Sparsity with L2 penalty:\", sparsity_l2_LR))\n",
        "    print(\"{:<40} {:.2f}\".format(\"Score with L1 penalty:\",\n",
        "                                 clf_l1_LR.score(X, y)))\n",
        "    print(\"{:<40} {:.2f}\".format(\"Score with Elastic-Net penalty:\",\n",
        "                                 clf_en_LR.score(X, y)))\n",
        "    print(\"{:<40} {:.2f}\".format(\"Score with L2 penalty:\",\n",
        "                                 clf_l2_LR.score(X, y)))\n",
        "\n",
        "    if i == 0:\n",
        "        axes_row[0].set_title(\"L1 penalty\")\n",
        "        axes_row[1].set_title(\"Elastic-Net\\nl1_ratio = %s\" % l1_ratio)\n",
        "        axes_row[2].set_title(\"L2 penalty\")\n",
        "\n",
        "    for ax, coefs in zip(axes_row, [coef_l1_LR, coef_en_LR, coef_l2_LR]):\n",
        "        ax.imshow(np.abs(coefs.reshape(8, 8)), interpolation='nearest',\n",
        "                  cmap='binary', vmax=1, vmin=0)\n",
        "        ax.set_xticks(())\n",
        "        ax.set_yticks(())\n",
        "\n",
        "    axes_row[0].set_ylabel('C = %s' % C)\n",
        "\n",
        "plt.show()"
      ],
      "execution_count": 2,
      "outputs": [
        {
          "output_type": "stream",
          "text": [
            "Automatically created module for IPython interactive environment\n",
            "C=1.00\n",
            "Sparsity with L1 penalty:                4.69%\n",
            "Sparsity with Elastic-Net penalty:       4.69%\n",
            "Sparsity with L2 penalty:                4.69%\n",
            "Score with L1 penalty:                   0.90\n",
            "Score with Elastic-Net penalty:          0.90\n",
            "Score with L2 penalty:                   0.90\n",
            "C=0.10\n",
            "Sparsity with L1 penalty:                31.25%\n",
            "Sparsity with Elastic-Net penalty:       12.50%\n",
            "Sparsity with L2 penalty:                4.69%\n",
            "Score with L1 penalty:                   0.90\n",
            "Score with Elastic-Net penalty:          0.90\n",
            "Score with L2 penalty:                   0.90\n",
            "C=0.01\n",
            "Sparsity with L1 penalty:                84.38%\n",
            "Sparsity with Elastic-Net penalty:       68.75%\n",
            "Sparsity with L2 penalty:                4.69%\n",
            "Score with L1 penalty:                   0.86\n",
            "Score with Elastic-Net penalty:          0.88\n",
            "Score with L2 penalty:                   0.89\n"
          ],
          "name": "stdout"
        },
        {
          "output_type": "display_data",
          "data": {
            "image/png": "[encoded data removed]",
            "text/plain": [
              "<Figure size 432x288 with 9 Axes>"
            ]
          },
          "metadata": {
            "tags": []
          }
        }
      ]
    }
  ]
}