{
  "nbformat": 4,
  "nbformat_minor": 0,
  "metadata": {
    "colab": {
      "name": "LinearRegression.ipynb",
      "provenance": [],
      "authorship_tag": "ABX9TyN95PLj3ePWJC7oYyfx8eyD",
      "include_colab_link": true
    },
    "kernelspec": {
      "name": "python3",
      "display_name": "Python 3"
    }
  },
  "cells": [
    {
      "cell_type": "markdown",
      "metadata": {
        "id": "view-in-github",
        "colab_type": "text"
      },
      "source": [
        "<a href=\"https://colab.research.google.com/github/ShashankS1ngh/ML/blob/main/LinearRegression.ipynb\" target=\"_parent\"><img src=\"https://colab.research.google.com/assets/colab-badge.svg\" alt=\"Open In Colab\"/></a>"
      ]
    },
    {
      "cell_type": "markdown",
      "metadata": {
        "id": "KK_-bex0tZX8"
      },
      "source": [
        "**Linear Regression**"
      ]
    },
    {
      "cell_type": "code",
      "metadata": {
        "id": "gJN46_G4C8w4"
      },
      "source": [
        "import numpy as np\r\n",
        "X = 2 * np.random.rand(100, 1)\r\n",
        "y = 4 + 3 * X + np.random.randn(100, 1)"
      ],
      "execution_count": 10,
      "outputs": []
    },
    {
      "cell_type": "code",
      "metadata": {
        "id": "qi36R6hHZghK"
      },
      "source": [
        "X_new = np.array([[0], [2]])"
      ],
      "execution_count": 11,
      "outputs": []
    },
    {
      "cell_type": "code",
      "metadata": {
        "id": "hwrQch--ZNeW"
      },
      "source": [
        "from sklearn.linear_model import LinearRegression\r\n",
        "lin_reg = LinearRegression()\r\n",
        "lin_reg.fit(X, y)\r\n",
        "y_predict=lin_reg.predict(X_new)"
      ],
      "execution_count": 12,
      "outputs": []
    },
    {
      "cell_type": "code",
      "metadata": {
        "colab": {
          "base_uri": "https://localhost:8080/",
          "height": 265
        },
        "id": "9q1N1L34Z8bi",
        "outputId": "4a5ce785-9d61-48e7-dc4f-b346f0a059c1"
      },
      "source": [
        "import matplotlib.pyplot as plt\r\n",
        "plt.plot(X_new, y_predict, \"r-\")\r\n",
        "plt.plot(X, y, \"b.\")\r\n",
        "plt.axis([0, 2, 0, 15])\r\n",
        "plt.show()"
      ],
      "execution_count": 13,
      "outputs": [
        {
          "output_type": "display_data",
          "data": {
            "image/png": "[encoded data removed]",
            "text/plain": [
              "<Figure size 432x288 with 1 Axes>"
            ]
          },
          "metadata": {
            "tags": [],
            "needs_background": "light"
          }
        }
      ]
    },
    {
      "cell_type": "code",
      "metadata": {
        "colab": {
          "base_uri": "https://localhost:8080/"
        },
        "id": "FNWQnblpuLDe",
        "outputId": "85fe8ae4-bd3c-4e40-ec69-5bf4cd326dac"
      },
      "source": [
        "from sklearn.linear_model import SGDRegressor\r\n",
        "from sklearn.linear_model import SGDRegressor\r\n",
        "sgd_reg = SGDRegressor(max_iter=50, tol=-np.infty, penalty=None, eta0=0.1, random_state=42)\r\n",
        "sgd_reg.fit(X, y.ravel())"
      ],
      "execution_count": 15,
      "outputs": [
        {
          "output_type": "execute_result",
          "data": {
            "text/plain": [
              "SGDRegressor(alpha=0.0001, average=False, early_stopping=False, epsilon=0.1,\n",
              "             eta0=0.1, fit_intercept=True, l1_ratio=0.15,\n",
              "             learning_rate='invscaling', loss='squared_loss', max_iter=50,\n",
              "             n_iter_no_change=5, penalty=None, power_t=0.25, random_state=42,\n",
              "             shuffle=True, tol=-inf, validation_fraction=0.1, verbose=0,\n",
              "             warm_start=False)"
            ]
          },
          "metadata": {
            "tags": []
          },
          "execution_count": 15
        }
      ]
    },
    {
      "cell_type": "code",
      "metadata": {
        "id": "APYkjvVmu85o"
      },
      "source": [
        ""
      ],
      "execution_count": null,
      "outputs": []
    }
  ]
}