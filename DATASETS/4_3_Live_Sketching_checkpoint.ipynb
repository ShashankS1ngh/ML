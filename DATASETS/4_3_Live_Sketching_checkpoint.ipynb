{
  "nbformat": 4,
  "nbformat_minor": 0,
  "metadata": {
    "kernelspec": {
      "display_name": "Python 3",
      "language": "python",
      "name": "python3"
    },
    "language_info": {
      "codemirror_mode": {
        "name": "ipython",
        "version": 3
      },
      "file_extension": ".py",
      "mimetype": "text/x-python",
      "name": "python",
      "nbconvert_exporter": "python",
      "pygments_lexer": "ipython3",
      "version": "3.6.6"
    },
    "colab": {
      "name": "4.3. Live Sketching-checkpoint.ipynb",
      "provenance": [],
      "include_colab_link": true
    }
  },
  "cells": [
    {
      "cell_type": "markdown",
      "metadata": {
        "id": "view-in-github",
        "colab_type": "text"
      },
      "source": [
        "<a href=\"https://colab.research.google.com/github/ShashankS1ngh/ML/blob/main/DATASETS/4_3_Live_Sketching_checkpoint.ipynb\" target=\"_parent\"><img src=\"https://colab.research.google.com/assets/colab-badge.svg\" alt=\"Open In Colab\"/></a>"
      ]
    },
    {
      "cell_type": "code",
      "metadata": {
        "id": "t-orYbCl90IP",
        "outputId": "3846a59b-995e-476f-e7e2-56dbf95d15a9"
      },
      "source": [
        "import keras\n",
        "import cv2\n",
        "import numpy as np\n",
        "import matplotlib\n",
        "print (cv2.__version__)"
      ],
      "execution_count": null,
      "outputs": [
        {
          "output_type": "stream",
          "text": [
            "Using TensorFlow backend.\n"
          ],
          "name": "stderr"
        },
        {
          "output_type": "stream",
          "text": [
            "3.4.3\n"
          ],
          "name": "stdout"
        }
      ]
    },
    {
      "cell_type": "code",
      "metadata": {
        "id": "n6KJpBx190Il"
      },
      "source": [
        "import cv2\n",
        "import numpy as np\n",
        "\n",
        "# Our sketch generating function\n",
        "def sketch(image):\n",
        "    # Convert image to grayscale\n",
        "    img_gray = cv2.cvtColor(image, cv2.COLOR_BGR2GRAY)\n",
        "    \n",
        "    # Clean up image using Guassian Blur\n",
        "    img_gray_blur = cv2.GaussianBlur(img_gray, (5,5), 0)\n",
        "    \n",
        "    # Extract edges\n",
        "    canny_edges = cv2.Canny(img_gray_blur, 10, 70)\n",
        "    \n",
        "    # Do an invert binarize the image \n",
        "    ret, mask = cv2.threshold(canny_edges, 70, 255, cv2.THRESH_BINARY_INV)\n",
        "    return mask\n",
        "\n",
        "\n",
        "# Initialize webcam, cap is the object provided by VideoCapture\n",
        "# It contains a boolean indicating if it was sucessful (ret)\n",
        "# It also contains the images collected from the webcam (frame)\n",
        "cap = cv2.VideoCapture(0)\n",
        "\n",
        "while True:\n",
        "    ret, frame = cap.read()\n",
        "    cv2.imshow('Our Live Sketcher', sketch(frame))\n",
        "    if cv2.waitKey(1) == 13: #13 is the Enter Key\n",
        "        break\n",
        "        \n",
        "# Release camera and close windows\n",
        "cap.release()\n",
        "cv2.destroyAllWindows()      "
      ],
      "execution_count": null,
      "outputs": []
    },
    {
      "cell_type": "code",
      "metadata": {
        "id": "qIzBE9Hg90Im"
      },
      "source": [
        ""
      ],
      "execution_count": null,
      "outputs": []
    }
  ]
}